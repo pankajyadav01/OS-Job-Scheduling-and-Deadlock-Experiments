{
 "cells": [
  {
   "cell_type": "code",
   "execution_count": null,
   "metadata": {
    "collapsed": true
   },
   "outputs": [],
   "source": []
  },
  {
   "cell_type": "code",
   "execution_count": 5,
   "metadata": {},
   "outputs": [
    {
     "name": "stdout",
     "output_type": "stream",
     "text": [
      "Enter the total no of processes: 4\n",
      "Enter process name: p0\n",
      "Enter process arrival time: 2\n",
      "Enter process burst time: 4\n",
      "Enter process name: p1\n",
      "Enter process arrival time: 3\n",
      "Enter process burst time: 6\n",
      "Enter process name: p2\n",
      "Enter process arrival time: 1\n",
      "Enter process burst time: 5\n",
      "Enter process name: p3\n",
      "Enter process arrival time: 4\n",
      "Enter process burst time: 8\n",
      "ProcessName\tArrivalTime\tBurstTime\tWaitingTime\tTurnAroundTime\n",
      "p2\t\t1\t\t5\t\t5\t\t4\n",
      "p0\t\t2\t\t4\t\t9\t\t7\n",
      "p1\t\t3\t\t6\t\t15\t\t12\n",
      "p3\t\t4\t\t8\t\t23\t\t19\n"
     ]
    }
   ],
   "source": [
    "queue = []\n",
    "total_time = 0\n",
    "total_tattime=0\n",
    "n = int(input('Enter the total no of processes: '))\n",
    "for i in range(n):\n",
    "    queue.append([])\n",
    "    queue[i].append(input('Enter process name: '))\n",
    "    queue[i].append(int(input('Enter process arrival time: ')))\n",
    "    queue[i].append(int(input('Enter process burst time: ')))   \n",
    "queue.sort(key = lambda queue:queue[1])\n",
    "for i in range(n):\n",
    "    queue.append([])  \n",
    "    total_time += queue[i][2]\n",
    "    queue[i].append(total_time)\n",
    "    queue[i].append(total_time-queue[i][1])\n",
    "    total_tattime += queue[i][4]\n",
    "\n",
    "print ('ProcessName\\tArrivalTime\\tBurstTime\\tWaitingTime\\tTurnAroundTime')\n",
    "for i in range(n):\n",
    "    print (str(queue[i][0])+'\\t\\t'+str(queue[i][1])+'\\t\\t'+str(queue[i][2])+'\\t\\t'+str(queue[i][3])+'\\t\\t'+str(queue[i][4]))"
   ]
  },
  {
   "cell_type": "code",
   "execution_count": 6,
   "metadata": {},
   "outputs": [
    {
     "name": "stdout",
     "output_type": "stream",
     "text": [
      "Total waiting time = 23\n"
     ]
    }
   ],
   "source": [
    "print (\"Total waiting time = \"+str(total_time))"
   ]
  },
  {
   "cell_type": "code",
   "execution_count": 7,
   "metadata": {},
   "outputs": [
    {
     "name": "stdout",
     "output_type": "stream",
     "text": [
      "Average waiting time = 5.75\n"
     ]
    }
   ],
   "source": [
    "print (\"Average waiting time = \"+str(total_time/n))"
   ]
  },
  {
   "cell_type": "code",
   "execution_count": 8,
   "metadata": {},
   "outputs": [
    {
     "name": "stdout",
     "output_type": "stream",
     "text": [
      "Total TurnAround time = 42\n",
      "Average TurnAround time = 10.5\n"
     ]
    }
   ],
   "source": [
    "print (\"Total TurnAround time = \"+str(total_tattime))\n",
    "print (\"Average TurnAround time = \"+str(total_tattime/n))"
   ]
  },
  {
   "cell_type": "code",
   "execution_count": null,
   "metadata": {
    "collapsed": true
   },
   "outputs": [],
   "source": []
  }
 ],
 "metadata": {
  "kernelspec": {
   "display_name": "Python 3",
   "language": "python",
   "name": "python3"
  },
  "language_info": {
   "codemirror_mode": {
    "name": "ipython",
    "version": 3
   },
   "file_extension": ".py",
   "mimetype": "text/x-python",
   "name": "python",
   "nbconvert_exporter": "python",
   "pygments_lexer": "ipython3",
   "version": "3.6.3"
  }
 },
 "nbformat": 4,
 "nbformat_minor": 2
}
