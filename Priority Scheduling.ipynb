{
 "cells": [
  {
   "cell_type": "code",
   "execution_count": 8,
   "metadata": {},
   "outputs": [
    {
     "name": "stdout",
     "output_type": "stream",
     "text": [
      "Enter the total no of processes: 5\n",
      "Enter process name: p0\n",
      "Enter process Priority: 9\n",
      "Enter process burst time: 5\n",
      "Enter process name: p1\n",
      "Enter process Priority: 1\n",
      "Enter process burst time: 8\n",
      "Enter process name: p2\n",
      "Enter process Priority: 3\n",
      "Enter process burst time: 7\n",
      "Enter process name: p3\n",
      "Enter process Priority: 5\n",
      "Enter process burst time: 1\n",
      "Enter process name: p4\n",
      "Enter process Priority: 2\n",
      "Enter process burst time: 3\n",
      "ProcessName\tPriority\tBurstTime\tCompletionTime\tTurnAroundTime\tTurnWaitingTime\n",
      "p1\t\t1\t\t8\t\t8\t\t8\t\t0\n",
      "p4\t\t2\t\t3\t\t11\t\t11\t\t8\n",
      "p2\t\t3\t\t7\t\t18\t\t18\t\t11\n",
      "p3\t\t5\t\t1\t\t19\t\t19\t\t18\n",
      "p0\t\t9\t\t5\t\t24\t\t24\t\t19\n"
     ]
    }
   ],
   "source": [
    "queue = []\n",
    "total_time = 0\n",
    "total_tattime=0\n",
    "total_wtime=0\n",
    "n = int(input('Enter the total no of processes: '))\n",
    "for i in range(n):\n",
    "    queue.append([])\n",
    "    queue[i].append(input('Enter process name: '))\n",
    "    queue[i].append(int(input('Enter process Priority: ')))\n",
    "    queue[i].append(int(input('Enter process burst time: ')))   \n",
    "queue.sort(key = lambda queue:queue[1])\n",
    "for i in range(n):\n",
    "    queue.append([])  \n",
    "    total_time += queue[i][2]\n",
    "    queue[i].append(total_time)\n",
    "    queue[i].append(total_time-0)\n",
    "    total_tattime += queue[i][4]\n",
    "    queue[i].append(total_time-queue[i][2])\n",
    "    total_wtime += queue[i][5]\n",
    "\n",
    "print ('ProcessName\\tPriority\\tBurstTime\\tCompletionTime\\tTurnAroundTime\\tTurnWaitingTime')\n",
    "for i in range(n):\n",
    "    \n",
    "    print (str(queue[i][0])+'\\t\\t'+str(queue[i][1])+'\\t\\t'+str(queue[i][2])+'\\t\\t'+str(queue[i][3])+'\\t\\t'+str(queue[i][4])+'\\t\\t'+str(queue[i][5]))"
   ]
  },
  {
   "cell_type": "code",
   "execution_count": 9,
   "metadata": {},
   "outputs": [
    {
     "name": "stdout",
     "output_type": "stream",
     "text": [
      "Total TurnAround time = 80\n",
      "Average TurnAround time = 16.0\n"
     ]
    }
   ],
   "source": [
    "print (\"Total TurnAround time = \"+str(total_tattime))\n",
    "print (\"Average TurnAround time = \"+str(total_tattime/n))"
   ]
  },
  {
   "cell_type": "code",
   "execution_count": 10,
   "metadata": {},
   "outputs": [
    {
     "name": "stdout",
     "output_type": "stream",
     "text": [
      "Total Waiting time = 56\n",
      "Average waiting time = 11.2\n"
     ]
    }
   ],
   "source": [
    "print (\"Total Waiting time = \"+str(total_wtime))\n",
    "print (\"Average waiting time = \"+str(total_wtime/n))"
   ]
  },
  {
   "cell_type": "code",
   "execution_count": null,
   "metadata": {
    "collapsed": true
   },
   "outputs": [],
   "source": []
  }
 ],
 "metadata": {
  "kernelspec": {
   "display_name": "Python 3",
   "language": "python",
   "name": "python3"
  },
  "language_info": {
   "codemirror_mode": {
    "name": "ipython",
    "version": 3
   },
   "file_extension": ".py",
   "mimetype": "text/x-python",
   "name": "python",
   "nbconvert_exporter": "python",
   "pygments_lexer": "ipython3",
   "version": "3.6.3"
  }
 },
 "nbformat": 4,
 "nbformat_minor": 2
}
